{
  "nbformat": 4,
  "nbformat_minor": 0,
  "metadata": {
    "colab": {
      "name": "Copy of Untitled6.ipynb",
      "provenance": [],
      "collapsed_sections": [],
      "include_colab_link": true
    },
    "kernelspec": {
      "name": "python3",
      "display_name": "Python 3"
    }
  },
  "cells": [
    {
      "cell_type": "markdown",
      "metadata": {
        "id": "view-in-github",
        "colab_type": "text"
      },
      "source": [
        "<a href=\"https://colab.research.google.com/github/19PA1A0478/assignment/blob/master/Copy_of_Untitled6.ipynb\" target=\"_parent\"><img src=\"https://colab.research.google.com/assets/colab-badge.svg\" alt=\"Open In Colab\"/></a>"
      ]
    },
    {
      "cell_type": "code",
      "metadata": {
        "id": "CtMQx0J2_4xx",
        "colab_type": "code",
        "colab": {}
      },
      "source": [
        "import numpy as np\n",
        "import pandas as pd\n",
        "import matplotlib.pyplot as mp\n",
        "\n",
        "\n",
        "\n"
      ],
      "execution_count": 0,
      "outputs": []
    },
    {
      "cell_type": "code",
      "metadata": {
        "id": "bHOUbr_JBcV0",
        "colab_type": "code",
        "outputId": "ab93ec37-13fd-45e9-a82a-75fa7ff52f69",
        "colab": {
          "base_uri": "https://localhost:8080/",
          "height": 85
        }
      },
      "source": [
        "data1=pd.read_csv(\"https://raw.githubusercontent.com/CSSEGISandData/COVID-19/master/csse_covid_19_data/csse_covid_19_daily_reports/01-22-2020.csv\")\n",
        "print(data1.head(3))"
      ],
      "execution_count": 11,
      "outputs": [
        {
          "output_type": "stream",
          "text": [
            "  Province/State  Country/Region      Last Update  Confirmed  Deaths  Recovered\n",
            "0          Anhui  Mainland China  1/22/2020 17:00        1.0     NaN        NaN\n",
            "1        Beijing  Mainland China  1/22/2020 17:00       14.0     NaN        NaN\n",
            "2      Chongqing  Mainland China  1/22/2020 17:00        6.0     NaN        NaN\n"
          ],
          "name": "stdout"
        }
      ]
    },
    {
      "cell_type": "code",
      "metadata": {
        "id": "Yyxwpo1tCTb0",
        "colab_type": "code",
        "outputId": "d80f9e1f-4236-4c9b-8548-0517f1a25196",
        "colab": {
          "base_uri": "https://localhost:8080/",
          "height": 85
        }
      },
      "source": [
        "data2=pd.read_csv(\"https://raw.githubusercontent.com/CSSEGISandData/COVID-19/master/csse_covid_19_data/csse_covid_19_daily_reports/01-23-2020.csv\")\n",
        "print(data2.head(3))"
      ],
      "execution_count": 12,
      "outputs": [
        {
          "output_type": "stream",
          "text": [
            "  Province/State  Country/Region    Last Update  Confirmed  Deaths  Recovered\n",
            "0          Anhui  Mainland China  1/23/20 17:00        9.0     NaN        NaN\n",
            "1        Beijing  Mainland China  1/23/20 17:00       22.0     NaN        NaN\n",
            "2      Chongqing  Mainland China  1/23/20 17:00        9.0     NaN        NaN\n"
          ],
          "name": "stdout"
        }
      ]
    },
    {
      "cell_type": "code",
      "metadata": {
        "id": "trYtOxoEDGND",
        "colab_type": "code",
        "outputId": "0aed7f9b-091c-4ad8-eff1-0cdee3765863",
        "colab": {
          "base_uri": "https://localhost:8080/",
          "height": 85
        }
      },
      "source": [
        "data3=pd.read_csv(\"https://raw.githubusercontent.com/CSSEGISandData/COVID-19/master/csse_covid_19_data/csse_covid_19_daily_reports/01-24-2020.csv\")\n",
        "print(data3.head(3))"
      ],
      "execution_count": 13,
      "outputs": [
        {
          "output_type": "stream",
          "text": [
            "  Province/State  Country/Region    Last Update  Confirmed  Deaths  Recovered\n",
            "0          Hubei  Mainland China  1/24/20 17:00      549.0    24.0       31.0\n",
            "1      Guangdong  Mainland China  1/24/20 17:00       53.0     NaN        2.0\n",
            "2       Zhejiang  Mainland China  1/24/20 17:00       43.0     NaN        1.0\n"
          ],
          "name": "stdout"
        }
      ]
    },
    {
      "cell_type": "code",
      "metadata": {
        "id": "9u8nRXUsDaMI",
        "colab_type": "code",
        "outputId": "490467e6-e5b7-4623-a0d7-e7f5518f4a7f",
        "colab": {
          "base_uri": "https://localhost:8080/",
          "height": 85
        }
      },
      "source": [
        "data4=pd.read_csv(\"https://raw.githubusercontent.com/CSSEGISandData/COVID-19/master/csse_covid_19_data/csse_covid_19_daily_reports/01-25-2020.csv\")\n",
        "print(data4.head(3))"
      ],
      "execution_count": 14,
      "outputs": [
        {
          "output_type": "stream",
          "text": [
            "  Province/State  Country/Region    Last Update  Confirmed  Deaths  Recovered\n",
            "0          Hubei  Mainland China  1/25/20 17:00        761    40.0       32.0\n",
            "1      Guangdong  Mainland China  1/25/20 17:00         78     NaN        2.0\n",
            "2       Zhejiang  Mainland China  1/25/20 17:00         62     NaN        1.0\n"
          ],
          "name": "stdout"
        }
      ]
    },
    {
      "cell_type": "code",
      "metadata": {
        "id": "w4devNkSDof5",
        "colab_type": "code",
        "outputId": "1fbf0461-aead-41f3-f5a9-d132e76f0e06",
        "colab": {
          "base_uri": "https://localhost:8080/",
          "height": 85
        }
      },
      "source": [
        "data5=pd.read_csv(\"https://raw.githubusercontent.com/CSSEGISandData/COVID-19/master/csse_covid_19_data/csse_covid_19_daily_reports/01-26-2020.csv\")\n",
        "print(data5.head(3))"
      ],
      "execution_count": 15,
      "outputs": [
        {
          "output_type": "stream",
          "text": [
            "  Province/State  Country/Region    Last Update  Confirmed  Deaths  Recovered\n",
            "0          Hubei  Mainland China  1/26/20 16:00       1058    52.0       42.0\n",
            "1      Guangdong  Mainland China  1/26/20 16:00        111     NaN        2.0\n",
            "2       Zhejiang  Mainland China  1/26/20 16:00        104     NaN        1.0\n"
          ],
          "name": "stdout"
        }
      ]
    },
    {
      "cell_type": "code",
      "metadata": {
        "id": "Po06hk-gD6pq",
        "colab_type": "code",
        "outputId": "9e715f47-c8cc-4a02-cd24-7d9c1f6f5273",
        "colab": {
          "base_uri": "https://localhost:8080/",
          "height": 85
        }
      },
      "source": [
        "data6=pd.read_csv(\"https://raw.githubusercontent.com/CSSEGISandData/COVID-19/master/csse_covid_19_data/csse_covid_19_daily_reports/01-27-2020.csv\")\n",
        "print(data6.head(3))"
      ],
      "execution_count": 16,
      "outputs": [
        {
          "output_type": "stream",
          "text": [
            "  Province/State  Country/Region    Last Update  Confirmed  Deaths  Recovered\n",
            "0          Hubei  Mainland China  1/27/20 23:59       1423    76.0       45.0\n",
            "1      Guangdong  Mainland China  1/27/20 23:59        151     NaN        4.0\n",
            "2       Zhejiang  Mainland China  1/27/20 23:59        128     NaN        1.0\n"
          ],
          "name": "stdout"
        }
      ]
    },
    {
      "cell_type": "code",
      "metadata": {
        "id": "M8XZqaOsEHmx",
        "colab_type": "code",
        "outputId": "7511b584-100c-41e1-d7ff-318a2b045378",
        "colab": {
          "base_uri": "https://localhost:8080/",
          "height": 85
        }
      },
      "source": [
        "data7=pd.read_csv(\"https://raw.githubusercontent.com/CSSEGISandData/COVID-19/master/csse_covid_19_data/csse_covid_19_daily_reports/01-28-2020.csv\")\n",
        "print(data7.head(3))"
      ],
      "execution_count": 17,
      "outputs": [
        {
          "output_type": "stream",
          "text": [
            "  Province/State  Country/Region    Last Update  Confirmed  Deaths  Recovered\n",
            "0          Hubei  Mainland China  1/28/20 23:00       3554   125.0       80.0\n",
            "1      Guangdong  Mainland China  1/28/20 23:00        207     NaN        4.0\n",
            "2       Zhejiang  Mainland China  1/28/20 23:00        173     NaN        3.0\n"
          ],
          "name": "stdout"
        }
      ]
    },
    {
      "cell_type": "code",
      "metadata": {
        "id": "C92c4B0NEW6w",
        "colab_type": "code",
        "outputId": "dc107425-0185-478d-ec22-7a0dd55e04c0",
        "colab": {
          "base_uri": "https://localhost:8080/",
          "height": 85
        }
      },
      "source": [
        "data8=pd.read_csv(\"https://raw.githubusercontent.com/CSSEGISandData/COVID-19/master/csse_covid_19_data/csse_covid_19_daily_reports/01-29-2020.csv\")\n",
        "print(data8.head(3))"
      ],
      "execution_count": 18,
      "outputs": [
        {
          "output_type": "stream",
          "text": [
            "  Province/State  Country/Region    Last Update  Confirmed  Deaths  Recovered\n",
            "0          Hubei  Mainland China  1/29/20 19:30       3554   125.0       88.0\n",
            "1       Zhejiang  Mainland China  1/29/20 19:30        296     NaN        3.0\n",
            "2      Guangdong  Mainland China  1/29/20 19:30        277     NaN        5.0\n"
          ],
          "name": "stdout"
        }
      ]
    },
    {
      "cell_type": "code",
      "metadata": {
        "id": "j-G8uFNUEh_a",
        "colab_type": "code",
        "outputId": "6f9e58b2-0488-4bf7-c7e9-94330f3431b1",
        "colab": {
          "base_uri": "https://localhost:8080/",
          "height": 85
        }
      },
      "source": [
        "data9=pd.read_csv(\"https://raw.githubusercontent.com/CSSEGISandData/COVID-19/master/csse_covid_19_data/csse_covid_19_daily_reports/01-30-2020.csv\")\n",
        "print(data9.head(3))"
      ],
      "execution_count": 19,
      "outputs": [
        {
          "output_type": "stream",
          "text": [
            "  Province/State  Country/Region    Last Update  Confirmed  Deaths  Recovered\n",
            "0          Hubei  Mainland China  1/30/20 16:00       4903   162.0       90.0\n",
            "1       Zhejiang  Mainland China  1/30/20 16:00        428     NaN        4.0\n",
            "2      Guangdong  Mainland China  1/30/20 16:00        354     NaN       10.0\n"
          ],
          "name": "stdout"
        }
      ]
    },
    {
      "cell_type": "code",
      "metadata": {
        "id": "vO1ATC-5ErdP",
        "colab_type": "code",
        "outputId": "ca7dab09-46e8-4a19-8ef1-2d1da297ec0a",
        "colab": {
          "base_uri": "https://localhost:8080/",
          "height": 85
        }
      },
      "source": [
        "data10=pd.read_csv(\"https://raw.githubusercontent.com/CSSEGISandData/COVID-19/master/csse_covid_19_data/csse_covid_19_daily_reports/01-31-2020.csv\")\n",
        "print(data10.head(3))"
      ],
      "execution_count": 20,
      "outputs": [
        {
          "output_type": "stream",
          "text": [
            "  Province/State  Country/Region      Last Update  Confirmed  Deaths  Recovered\n",
            "0          Hubei  Mainland China  1/31/2020 23:59       5806   204.0      141.0\n",
            "1       Zhejiang  Mainland China  1/31/2020 23:59        538     NaN       14.0\n",
            "2      Guangdong  Mainland China  1/31/2020 23:59        436     NaN       11.0\n"
          ],
          "name": "stdout"
        }
      ]
    },
    {
      "cell_type": "code",
      "metadata": {
        "id": "DjWTYl3BE9_X",
        "colab_type": "code",
        "outputId": "200b9908-6d81-4ea1-8bfc-eee46150acf4",
        "colab": {
          "base_uri": "https://localhost:8080/",
          "height": 85
        }
      },
      "source": [
        "data11=pd.read_csv(\"https://raw.githubusercontent.com/CSSEGISandData/COVID-19/master/csse_covid_19_data/csse_covid_19_daily_reports/02-01-2020.csv\")\n",
        "print(data11.head(3))"
      ],
      "execution_count": 21,
      "outputs": [
        {
          "output_type": "stream",
          "text": [
            "  Province/State  Country/Region     Last Update  Confirmed  Deaths  Recovered\n",
            "0          Hubei  Mainland China  2/1/2020 11:53       7153     249        168\n",
            "1       Zhejiang  Mainland China  2/1/2020 10:53        599       0         21\n",
            "2      Guangdong  Mainland China  2/1/2020 14:23        535       0         14\n"
          ],
          "name": "stdout"
        }
      ]
    },
    {
      "cell_type": "code",
      "metadata": {
        "id": "0PRrgQIyFSbM",
        "colab_type": "code",
        "outputId": "21e85127-c67b-4335-9f88-3216b6f2596d",
        "colab": {
          "base_uri": "https://localhost:8080/",
          "height": 119
        }
      },
      "source": [
        "data12=pd.read_csv(\"https://raw.githubusercontent.com/CSSEGISandData/COVID-19/master/csse_covid_19_data/csse_covid_19_daily_reports/02-02-2020.csv\")\n",
        "print(data12.head(3))"
      ],
      "execution_count": 22,
      "outputs": [
        {
          "output_type": "stream",
          "text": [
            "  Province/State  Country/Region  ... Deaths  Recovered\n",
            "0          Hubei  Mainland China  ...    350        295\n",
            "1       Zhejiang  Mainland China  ...      0         32\n",
            "2      Guangdong  Mainland China  ...      0         15\n",
            "\n",
            "[3 rows x 6 columns]\n"
          ],
          "name": "stdout"
        }
      ]
    },
    {
      "cell_type": "code",
      "metadata": {
        "id": "2QjKzYFkFmX0",
        "colab_type": "code",
        "outputId": "e1520ee6-94d9-41ef-b0d8-4c1894a9d257",
        "colab": {
          "base_uri": "https://localhost:8080/",
          "height": 119
        }
      },
      "source": [
        "data13=pd.read_csv(\"https://raw.githubusercontent.com/CSSEGISandData/COVID-19/master/csse_covid_19_data/csse_covid_19_daily_reports/02-03-2020.csv\")\n",
        "print(data13.head(3))"
      ],
      "execution_count": 23,
      "outputs": [
        {
          "output_type": "stream",
          "text": [
            "  Province/State  Country/Region  ... Deaths  Recovered\n",
            "0          Hubei  Mainland China  ...    414        386\n",
            "1      Guangdong  Mainland China  ...      0         21\n",
            "2       Zhejiang  Mainland China  ...      0         43\n",
            "\n",
            "[3 rows x 6 columns]\n"
          ],
          "name": "stdout"
        }
      ]
    },
    {
      "cell_type": "code",
      "metadata": {
        "id": "ten9TzniF0QD",
        "colab_type": "code",
        "outputId": "8065b6cb-f7bf-4ae7-83d6-f9fa85da43c4",
        "colab": {
          "base_uri": "https://localhost:8080/",
          "height": 119
        }
      },
      "source": [
        "data14=pd.read_csv(\"https://raw.githubusercontent.com/CSSEGISandData/COVID-19/master/csse_covid_19_data/csse_covid_19_daily_reports/02-04-2020.csv\")\n",
        "print(data14.head(3))"
      ],
      "execution_count": 24,
      "outputs": [
        {
          "output_type": "stream",
          "text": [
            "  Province/State  Country/Region  ... Deaths  Recovered\n",
            "0          Hubei  Mainland China  ...    479        522\n",
            "1       Zhejiang  Mainland China  ...      0         62\n",
            "2      Guangdong  Mainland China  ...      0         30\n",
            "\n",
            "[3 rows x 6 columns]\n"
          ],
          "name": "stdout"
        }
      ]
    },
    {
      "cell_type": "code",
      "metadata": {
        "id": "kHVBRPNtF-mT",
        "colab_type": "code",
        "outputId": "9a4fb564-7df0-4871-8fd6-8c4fb6fbf64d",
        "colab": {
          "base_uri": "https://localhost:8080/",
          "height": 119
        }
      },
      "source": [
        "data15=pd.read_csv(\"https://raw.githubusercontent.com/CSSEGISandData/COVID-19/master/csse_covid_19_data/csse_covid_19_daily_reports/02-05-2020.csv\")\n",
        "print(data15.head(3))"
      ],
      "execution_count": 25,
      "outputs": [
        {
          "output_type": "stream",
          "text": [
            "  Province/State  Country/Region  ... Deaths  Recovered\n",
            "0          Hubei  Mainland China  ...    549        633\n",
            "1      Guangdong  Mainland China  ...      0         49\n",
            "2       Zhejiang  Mainland China  ...      0         78\n",
            "\n",
            "[3 rows x 6 columns]\n"
          ],
          "name": "stdout"
        }
      ]
    },
    {
      "cell_type": "code",
      "metadata": {
        "id": "axMrHssyGHn-",
        "colab_type": "code",
        "outputId": "f57a6fe1-20b2-48e6-bdaf-187eeb4df7d5",
        "colab": {
          "base_uri": "https://localhost:8080/",
          "height": 119
        }
      },
      "source": [
        "data16=pd.read_csv(\"https://raw.githubusercontent.com/CSSEGISandData/COVID-19/master/csse_covid_19_data/csse_covid_19_daily_reports/02-06-2020.csv\")\n",
        "print(data16.head(3))"
      ],
      "execution_count": 26,
      "outputs": [
        {
          "output_type": "stream",
          "text": [
            "  Province/State  Country/Region  ... Deaths  Recovered\n",
            "0          Hubei  Mainland China  ...    618        817\n",
            "1      Guangdong  Mainland China  ...      0         69\n",
            "2       Zhejiang  Mainland China  ...      0         94\n",
            "\n",
            "[3 rows x 6 columns]\n"
          ],
          "name": "stdout"
        }
      ]
    },
    {
      "cell_type": "code",
      "metadata": {
        "id": "JDMHp_3wGRBX",
        "colab_type": "code",
        "outputId": "ce8ee1c7-482f-4df5-b1db-c9f336628d69",
        "colab": {
          "base_uri": "https://localhost:8080/",
          "height": 119
        }
      },
      "source": [
        "data17=pd.read_csv(\"https://raw.githubusercontent.com/CSSEGISandData/COVID-19/master/csse_covid_19_data/csse_covid_19_daily_reports/02-07-2020.csv\")\n",
        "print(data17.head(3))"
      ],
      "execution_count": 27,
      "outputs": [
        {
          "output_type": "stream",
          "text": [
            "  Province/State  Country/Region  ... Deaths  Recovered\n",
            "0          Hubei  Mainland China  ...    699       1115\n",
            "1      Guangdong  Mainland China  ...      1         88\n",
            "2       Zhejiang  Mainland China  ...      0        123\n",
            "\n",
            "[3 rows x 6 columns]\n"
          ],
          "name": "stdout"
        }
      ]
    },
    {
      "cell_type": "code",
      "metadata": {
        "id": "db_pS9_RGZ9I",
        "colab_type": "code",
        "outputId": "29335432-68a6-4f78-fba8-7bcf51fd274b",
        "colab": {
          "base_uri": "https://localhost:8080/",
          "height": 119
        }
      },
      "source": [
        "data18=pd.read_csv(\"https://raw.githubusercontent.com/CSSEGISandData/COVID-19/master/csse_covid_19_data/csse_covid_19_daily_reports/02-08-2020.csv\")\n",
        "print(data18.head(3))"
      ],
      "execution_count": 28,
      "outputs": [
        {
          "output_type": "stream",
          "text": [
            "  Province/State  Country/Region  ... Deaths  Recovered\n",
            "0          Hubei  Mainland China  ...    780       1439\n",
            "1      Guangdong  Mainland China  ...      1        112\n",
            "2       Zhejiang  Mainland China  ...      0        175\n",
            "\n",
            "[3 rows x 6 columns]\n"
          ],
          "name": "stdout"
        }
      ]
    },
    {
      "cell_type": "code",
      "metadata": {
        "id": "OpsOLi7qGkVl",
        "colab_type": "code",
        "outputId": "8a58d40c-f16b-4b47-8a3c-3b8760302d2b",
        "colab": {
          "base_uri": "https://localhost:8080/",
          "height": 119
        }
      },
      "source": [
        "data19=pd.read_csv(\"https://raw.githubusercontent.com/CSSEGISandData/COVID-19/master/csse_covid_19_data/csse_covid_19_daily_reports/02-09-2020.csv\")\n",
        "print(data19.head(3))"
      ],
      "execution_count": 29,
      "outputs": [
        {
          "output_type": "stream",
          "text": [
            "  Province/State  Country/Region  ... Deaths  Recovered\n",
            "0          Hubei  Mainland China  ...    871       1795\n",
            "1      Guangdong  Mainland China  ...      1        141\n",
            "2       Zhejiang  Mainland China  ...      0        201\n",
            "\n",
            "[3 rows x 6 columns]\n"
          ],
          "name": "stdout"
        }
      ]
    },
    {
      "cell_type": "code",
      "metadata": {
        "id": "SeyiKiMZGs8w",
        "colab_type": "code",
        "outputId": "b8fd44fd-7cf9-436a-da73-56cd4f4c451c",
        "colab": {
          "base_uri": "https://localhost:8080/",
          "height": 119
        }
      },
      "source": [
        "data20=pd.read_csv(\"https://raw.githubusercontent.com/CSSEGISandData/COVID-19/master/csse_covid_19_data/csse_covid_19_daily_reports/02-10-2020.csv\")\n",
        "print(data20.head(3))"
      ],
      "execution_count": 30,
      "outputs": [
        {
          "output_type": "stream",
          "text": [
            "  Province/State  Country/Region  ... Deaths  Recovered\n",
            "0          Hubei  Mainland China  ...    974       2222\n",
            "1      Guangdong  Mainland China  ...      1        167\n",
            "2       Zhejiang  Mainland China  ...      0        242\n",
            "\n",
            "[3 rows x 6 columns]\n"
          ],
          "name": "stdout"
        }
      ]
    },
    {
      "cell_type": "code",
      "metadata": {
        "id": "KDqR3kxXBtPE",
        "colab_type": "code",
        "outputId": "f7dd5610-c444-42b8-b560-943333f17678",
        "colab": {
          "base_uri": "https://localhost:8080/",
          "height": 119
        }
      },
      "source": [
        "data21=pd.read_csv(\"https://raw.githubusercontent.com/CSSEGISandData/COVID-19/master/csse_covid_19_data/csse_covid_19_daily_reports/02-11-2020.csv\")\n",
        "print(data21.head(3))"
      ],
      "execution_count": 31,
      "outputs": [
        {
          "output_type": "stream",
          "text": [
            "  Province/State  Country/Region  ... Deaths  Recovered\n",
            "0          Hubei  Mainland China  ...   1068       2639\n",
            "1      Guangdong  Mainland China  ...      1        212\n",
            "2       Zhejiang  Mainland China  ...      0        270\n",
            "\n",
            "[3 rows x 6 columns]\n"
          ],
          "name": "stdout"
        }
      ]
    },
    {
      "cell_type": "code",
      "metadata": {
        "id": "v4K4sah7HCvO",
        "colab_type": "code",
        "outputId": "0b55371b-217d-471f-88f2-42865b06f04f",
        "colab": {
          "base_uri": "https://localhost:8080/",
          "height": 119
        }
      },
      "source": [
        "data22=pd.read_csv(\"https://raw.githubusercontent.com/CSSEGISandData/COVID-19/master/csse_covid_19_data/csse_covid_19_daily_reports/02-12-2020.csv\")\n",
        "print(data22.head(3))"
      ],
      "execution_count": 32,
      "outputs": [
        {
          "output_type": "stream",
          "text": [
            "  Province/State  Country/Region  ... Deaths  Recovered\n",
            "0          Hubei  Mainland China  ...   1068       2686\n",
            "1      Guangdong  Mainland China  ...      1        275\n",
            "2          Henan  Mainland China  ...      8        246\n",
            "\n",
            "[3 rows x 6 columns]\n"
          ],
          "name": "stdout"
        }
      ]
    },
    {
      "cell_type": "code",
      "metadata": {
        "id": "vaJqnD5EHOkv",
        "colab_type": "code",
        "outputId": "824d2605-49dc-42b9-d335-c1cb6aa2fb92",
        "colab": {
          "base_uri": "https://localhost:8080/",
          "height": 119
        }
      },
      "source": [
        "data23=pd.read_csv(\"https://raw.githubusercontent.com/CSSEGISandData/COVID-19/master/csse_covid_19_data/csse_covid_19_daily_reports/02-13-2020.csv\")\n",
        "print(data23.head(3))"
      ],
      "execution_count": 33,
      "outputs": [
        {
          "output_type": "stream",
          "text": [
            "  Province/State  Country/Region  ... Deaths  Recovered\n",
            "0          Hubei  Mainland China  ...   1310       3459\n",
            "1      Guangdong  Mainland China  ...      2        314\n",
            "2          Henan  Mainland China  ...     10        296\n",
            "\n",
            "[3 rows x 6 columns]\n"
          ],
          "name": "stdout"
        }
      ]
    },
    {
      "cell_type": "code",
      "metadata": {
        "id": "grZ-wHXnHYbi",
        "colab_type": "code",
        "outputId": "a0a71dde-d54e-4ed6-ebc5-5955500c6b78",
        "colab": {
          "base_uri": "https://localhost:8080/",
          "height": 119
        }
      },
      "source": [
        "data24=pd.read_csv(\"https://raw.githubusercontent.com/CSSEGISandData/COVID-19/master/csse_covid_19_data/csse_covid_19_daily_reports/02-14-2020.csv\")\n",
        "print(data24.head(3))"
      ],
      "execution_count": 34,
      "outputs": [
        {
          "output_type": "stream",
          "text": [
            "  Province/State  Country/Region  ... Deaths  Recovered\n",
            "0          Hubei  Mainland China  ...   1457       4774\n",
            "1      Guangdong  Mainland China  ...      2        362\n",
            "2          Henan  Mainland China  ...     11        357\n",
            "\n",
            "[3 rows x 6 columns]\n"
          ],
          "name": "stdout"
        }
      ]
    },
    {
      "cell_type": "code",
      "metadata": {
        "id": "q0Nyvrx-HvK_",
        "colab_type": "code",
        "outputId": "c514ea79-da75-4d2d-fbfd-ddc3a42bdfb9",
        "colab": {
          "base_uri": "https://localhost:8080/",
          "height": 119
        }
      },
      "source": [
        "data25=pd.read_csv(\"https://raw.githubusercontent.com/CSSEGISandData/COVID-19/master/csse_covid_19_data/csse_covid_19_daily_reports/02-15-2020.csv\")\n",
        "print(data25.head(3))"
      ],
      "execution_count": 35,
      "outputs": [
        {
          "output_type": "stream",
          "text": [
            "  Province/State  Country/Region  ... Deaths  Recovered\n",
            "0          Hubei  Mainland China  ...   1596       5623\n",
            "1      Guangdong  Mainland China  ...      2        410\n",
            "2          Henan  Mainland China  ...     13        391\n",
            "\n",
            "[3 rows x 6 columns]\n"
          ],
          "name": "stdout"
        }
      ]
    },
    {
      "cell_type": "code",
      "metadata": {
        "id": "dPe-dNilH0PP",
        "colab_type": "code",
        "outputId": "9c88cab1-5bcb-4854-85f5-92710c402ba4",
        "colab": {
          "base_uri": "https://localhost:8080/",
          "height": 119
        }
      },
      "source": [
        "data26=pd.read_csv(\"https://raw.githubusercontent.com/CSSEGISandData/COVID-19/master/csse_covid_19_data/csse_covid_19_daily_reports/02-16-2020.csv\")\n",
        "print(data26.head(3))"
      ],
      "execution_count": 36,
      "outputs": [
        {
          "output_type": "stream",
          "text": [
            "  Province/State  Country/Region  ... Deaths  Recovered\n",
            "0          Hubei  Mainland China  ...   1696       6639\n",
            "1      Guangdong  Mainland China  ...      2        465\n",
            "2          Henan  Mainland China  ...     13        440\n",
            "\n",
            "[3 rows x 6 columns]\n"
          ],
          "name": "stdout"
        }
      ]
    },
    {
      "cell_type": "code",
      "metadata": {
        "id": "qSRJ-ky0H5HJ",
        "colab_type": "code",
        "outputId": "29fb7e2d-e879-42ff-e6ac-3b6ee85ccd67",
        "colab": {
          "base_uri": "https://localhost:8080/",
          "height": 119
        }
      },
      "source": [
        "data27=pd.read_csv(\"https://raw.githubusercontent.com/CSSEGISandData/COVID-19/master/csse_covid_19_data/csse_covid_19_daily_reports/02-17-2020.csv\")\n",
        "print(data27.head(3))"
      ],
      "execution_count": 37,
      "outputs": [
        {
          "output_type": "stream",
          "text": [
            "  Province/State  Country/Region  ... Deaths  Recovered\n",
            "0          Hubei  Mainland China  ...   1789       7862\n",
            "1      Guangdong  Mainland China  ...      4        524\n",
            "2          Henan  Mainland China  ...     16        509\n",
            "\n",
            "[3 rows x 6 columns]\n"
          ],
          "name": "stdout"
        }
      ]
    },
    {
      "cell_type": "code",
      "metadata": {
        "id": "QJUxAJ4bH_oV",
        "colab_type": "code",
        "outputId": "642d7a95-4037-4e85-bd5c-11bdcad74fb9",
        "colab": {
          "base_uri": "https://localhost:8080/",
          "height": 119
        }
      },
      "source": [
        "data28=pd.read_csv(\"https://raw.githubusercontent.com/CSSEGISandData/COVID-19/master/csse_covid_19_data/csse_covid_19_daily_reports/02-18-2020.csv\")\n",
        "print(data28.head(3))"
      ],
      "execution_count": 38,
      "outputs": [
        {
          "output_type": "stream",
          "text": [
            "  Province/State  Country/Region  ... Deaths  Recovered\n",
            "0          Hubei  Mainland China  ...   1921       9128\n",
            "1      Guangdong  Mainland China  ...      4        565\n",
            "2          Henan  Mainland China  ...     19        522\n",
            "\n",
            "[3 rows x 6 columns]\n"
          ],
          "name": "stdout"
        }
      ]
    },
    {
      "cell_type": "code",
      "metadata": {
        "id": "gPOn9u3NIFeJ",
        "colab_type": "code",
        "outputId": "424ac460-6561-46f5-9436-9ff4ac499aeb",
        "colab": {
          "base_uri": "https://localhost:8080/",
          "height": 119
        }
      },
      "source": [
        "data29=pd.read_csv(\"https://raw.githubusercontent.com/CSSEGISandData/COVID-19/master/csse_covid_19_data/csse_covid_19_daily_reports/02-19-2020.csv\")\n",
        "print(data29.head(3))"
      ],
      "execution_count": 39,
      "outputs": [
        {
          "output_type": "stream",
          "text": [
            "  Province/State  Country/Region  ... Deaths  Recovered\n",
            "0          Hubei  Mainland China  ...   2029      10337\n",
            "1      Guangdong  Mainland China  ...      5        606\n",
            "2          Henan  Mainland China  ...     19        573\n",
            "\n",
            "[3 rows x 6 columns]\n"
          ],
          "name": "stdout"
        }
      ]
    },
    {
      "cell_type": "code",
      "metadata": {
        "id": "bY6cUQ3OIJeT",
        "colab_type": "code",
        "outputId": "a0fec5e6-f940-404e-b732-ac19a9682b51",
        "colab": {
          "base_uri": "https://localhost:8080/",
          "height": 119
        }
      },
      "source": [
        "data30=pd.read_csv(\"https://raw.githubusercontent.com/CSSEGISandData/COVID-19/master/csse_covid_19_data/csse_covid_19_daily_reports/02-20-2020.csv\")\n",
        "print(data30.head(3))"
      ],
      "execution_count": 40,
      "outputs": [
        {
          "output_type": "stream",
          "text": [
            "  Province/State  Country/Region  ... Deaths  Recovered\n",
            "0          Hubei  Mainland China  ...   2144      11788\n",
            "1      Guangdong  Mainland China  ...      5        642\n",
            "2          Henan  Mainland China  ...     19        637\n",
            "\n",
            "[3 rows x 6 columns]\n"
          ],
          "name": "stdout"
        }
      ]
    },
    {
      "cell_type": "code",
      "metadata": {
        "id": "EDTn3dPkIO2J",
        "colab_type": "code",
        "outputId": "7861c4fc-9dfb-4f68-f7a9-c5caaf06ff8a",
        "colab": {
          "base_uri": "https://localhost:8080/",
          "height": 119
        }
      },
      "source": [
        "data31=pd.read_csv(\"https://raw.githubusercontent.com/CSSEGISandData/COVID-19/master/csse_covid_19_data/csse_covid_19_daily_reports/02-21-2020.csv\")\n",
        "print(data31.head(3))"
      ],
      "execution_count": 41,
      "outputs": [
        {
          "output_type": "stream",
          "text": [
            "  Province/State  Country/Region  ... Deaths  Recovered\n",
            "0          Hubei  Mainland China  ...   2144      11881\n",
            "1      Guangdong  Mainland China  ...      5        690\n",
            "2          Henan  Mainland China  ...     19        736\n",
            "\n",
            "[3 rows x 6 columns]\n"
          ],
          "name": "stdout"
        }
      ]
    },
    {
      "cell_type": "code",
      "metadata": {
        "id": "zgqfgs4MIU_c",
        "colab_type": "code",
        "outputId": "fabf45dd-10c3-4e52-c4b7-8ad106d93e27",
        "colab": {
          "base_uri": "https://localhost:8080/",
          "height": 119
        }
      },
      "source": [
        "data32=pd.read_csv(\"https://raw.githubusercontent.com/CSSEGISandData/COVID-19/master/csse_covid_19_data/csse_covid_19_daily_reports/02-22-2020.csv\")\n",
        "print(data32.head(3))"
      ],
      "execution_count": 42,
      "outputs": [
        {
          "output_type": "stream",
          "text": [
            "  Province/State  Country/Region  ... Deaths  Recovered\n",
            "0          Hubei  Mainland China  ...   2346      15299\n",
            "1      Guangdong  Mainland China  ...      5        728\n",
            "2          Henan  Mainland China  ...     19        830\n",
            "\n",
            "[3 rows x 6 columns]\n"
          ],
          "name": "stdout"
        }
      ]
    },
    {
      "cell_type": "code",
      "metadata": {
        "id": "QYhkEaGTIrJ8",
        "colab_type": "code",
        "colab": {}
      },
      "source": [
        "data33=pd.read_csv(\"https://raw.githubusercontent.com/CSSEGISandData/COVID-19/master/csse_covid_19_data/csse_covid_19_daily_reports/02-23-2020.csv\")\n",
        "data34=pd.read_csv(\"https://raw.githubusercontent.com/CSSEGISandData/COVID-19/master/csse_covid_19_data/csse_covid_19_daily_reports/02-24-2020.csv\")\n",
        "data35=pd.read_csv(\"https://raw.githubusercontent.com/CSSEGISandData/COVID-19/master/csse_covid_19_data/csse_covid_19_daily_reports/02-25-2020.csv\")\n",
        "data36=pd.read_csv(\"https://raw.githubusercontent.com/CSSEGISandData/COVID-19/master/csse_covid_19_data/csse_covid_19_daily_reports/02-26-2020.csv\")\n",
        "data37=pd.read_csv(\"https://raw.githubusercontent.com/CSSEGISandData/COVID-19/master/csse_covid_19_data/csse_covid_19_daily_reports/02-27-2020.csv\")\n",
        "data38=pd.read_csv(\"https://raw.githubusercontent.com/CSSEGISandData/COVID-19/master/csse_covid_19_data/csse_covid_19_daily_reports/02-28-2020.csv\")\n",
        "data39=pd.read_csv(\"https://raw.githubusercontent.com/CSSEGISandData/COVID-19/master/csse_covid_19_data/csse_covid_19_daily_reports/02-29-2020.csv\")"
      ],
      "execution_count": 0,
      "outputs": []
    },
    {
      "cell_type": "code",
      "metadata": {
        "id": "TsrZ5yt5JP_t",
        "colab_type": "code",
        "colab": {}
      },
      "source": [
        "data40=pd.read_csv(\"https://raw.githubusercontent.com/CSSEGISandData/COVID-19/master/csse_covid_19_data/csse_covid_19_daily_reports/03-01-2020.csv\")\n",
        "data41=pd.read_csv(\"https://raw.githubusercontent.com/CSSEGISandData/COVID-19/master/csse_covid_19_data/csse_covid_19_daily_reports/03-02-2020.csv\")\n",
        "data42=pd.read_csv(\"https://raw.githubusercontent.com/CSSEGISandData/COVID-19/master/csse_covid_19_data/csse_covid_19_daily_reports/03-03-2020.csv\")\n",
        "data43=pd.read_csv(\"https://raw.githubusercontent.com/CSSEGISandData/COVID-19/master/csse_covid_19_data/csse_covid_19_daily_reports/03-04-2020.csv\")\n",
        "data44=pd.read_csv(\"https://raw.githubusercontent.com/CSSEGISandData/COVID-19/master/csse_covid_19_data/csse_covid_19_daily_reports/03-05-2020.csv\")\n",
        "data45=pd.read_csv(\"https://raw.githubusercontent.com/CSSEGISandData/COVID-19/master/csse_covid_19_data/csse_covid_19_daily_reports/03-06-2020.csv\")\n",
        "data46=pd.read_csv(\"https://raw.githubusercontent.com/CSSEGISandData/COVID-19/master/csse_covid_19_data/csse_covid_19_daily_reports/03-07-2020.csv\")\n",
        "data47=pd.read_csv(\"https://raw.githubusercontent.com/CSSEGISandData/COVID-19/master/csse_covid_19_data/csse_covid_19_daily_reports/03-08-2020.csv\")\n",
        "data48=pd.read_csv(\"https://raw.githubusercontent.com/CSSEGISandData/COVID-19/master/csse_covid_19_data/csse_covid_19_daily_reports/03-09-2020.csv\")\n",
        "data49=pd.read_csv(\"https://raw.githubusercontent.com/CSSEGISandData/COVID-19/master/csse_covid_19_data/csse_covid_19_daily_reports/03-10-2020.csv\")\n",
        "data50=pd.read_csv(\"https://raw.githubusercontent.com/CSSEGISandData/COVID-19/master/csse_covid_19_data/csse_covid_19_daily_reports/03-11-2020.csv\")\n",
        "data51=pd.read_csv(\"https://raw.githubusercontent.com/CSSEGISandData/COVID-19/master/csse_covid_19_data/csse_covid_19_daily_reports/03-12-2020.csv\")\n",
        "data52=pd.read_csv(\"https://raw.githubusercontent.com/CSSEGISandData/COVID-19/master/csse_covid_19_data/csse_covid_19_daily_reports/03-13-2020.csv\")\n",
        "data53=pd.read_csv(\"https://raw.githubusercontent.com/CSSEGISandData/COVID-19/master/csse_covid_19_data/csse_covid_19_daily_reports/03-14-2020.csv\")\n",
        "data54=pd.read_csv(\"https://raw.githubusercontent.com/CSSEGISandData/COVID-19/master/csse_covid_19_data/csse_covid_19_daily_reports/03-15-2020.csv\")\n",
        "data55=pd.read_csv(\"https://raw.githubusercontent.com/CSSEGISandData/COVID-19/master/csse_covid_19_data/csse_covid_19_daily_reports/03-16-2020.csv\")\n",
        "data56=pd.read_csv(\"https://raw.githubusercontent.com/CSSEGISandData/COVID-19/master/csse_covid_19_data/csse_covid_19_daily_reports/03-17-2020.csv\")\n",
        "data57=pd.read_csv(\"https://raw.githubusercontent.com/CSSEGISandData/COVID-19/master/csse_covid_19_data/csse_covid_19_daily_reports/03-18-2020.csv\")\n",
        "data58=pd.read_csv(\"https://raw.githubusercontent.com/CSSEGISandData/COVID-19/master/csse_covid_19_data/csse_covid_19_daily_reports/03-19-2020.csv\")\n",
        "data59=pd.read_csv(\"https://raw.githubusercontent.com/CSSEGISandData/COVID-19/master/csse_covid_19_data/csse_covid_19_daily_reports/03-20-2020.csv\")\n",
        "data60=pd.read_csv(\"https://raw.githubusercontent.com/CSSEGISandData/COVID-19/master/csse_covid_19_data/csse_covid_19_daily_reports/03-21-2020.csv\")\n"
      ],
      "execution_count": 0,
      "outputs": []
    },
    {
      "cell_type": "code",
      "metadata": {
        "id": "3UATlYd_LYgR",
        "colab_type": "code",
        "outputId": "1188f558-bb73-4834-a090-bd5e786b036b",
        "colab": {
          "base_uri": "https://localhost:8080/",
          "height": 555
        }
      },
      "source": [
        "frames=[data1,data2,data3,data4,data5,data6,data7,data8,data9,data10,data11,data12,data13,data14,data15,data16,data17,data18,data19,data20,data21,data22,data23,data24,data25,data26,data27,data28,data29,data30,data31,data32,data33,data34,data35,data36,data37,data38,data39,data40,data41,data42,data43,data44,data45,data46,data47,data48,data49,data50,data51,data52,data53,data54,data55,data56,data57,data58,data59,data60]\n",
        "data_final=pd.concat(frames)\n",
        "data_final\n",
        "\n"
      ],
      "execution_count": 45,
      "outputs": [
        {
          "output_type": "stream",
          "text": [
            "/usr/local/lib/python3.6/dist-packages/ipykernel_launcher.py:2: FutureWarning: Sorting because non-concatenation axis is not aligned. A future version\n",
            "of pandas will change to not sort by default.\n",
            "\n",
            "To accept the future behavior, pass 'sort=False'.\n",
            "\n",
            "To retain the current behavior and silence the warning, pass 'sort=True'.\n",
            "\n",
            "  \n"
          ],
          "name": "stderr"
        },
        {
          "output_type": "execute_result",
          "data": {
            "text/html": [
              "<div>\n",
              "<style scoped>\n",
              "    .dataframe tbody tr th:only-of-type {\n",
              "        vertical-align: middle;\n",
              "    }\n",
              "\n",
              "    .dataframe tbody tr th {\n",
              "        vertical-align: top;\n",
              "    }\n",
              "\n",
              "    .dataframe thead th {\n",
              "        text-align: right;\n",
              "    }\n",
              "</style>\n",
              "<table border=\"1\" class=\"dataframe\">\n",
              "  <thead>\n",
              "    <tr style=\"text-align: right;\">\n",
              "      <th></th>\n",
              "      <th>Confirmed</th>\n",
              "      <th>Country/Region</th>\n",
              "      <th>Deaths</th>\n",
              "      <th>Last Update</th>\n",
              "      <th>Latitude</th>\n",
              "      <th>Longitude</th>\n",
              "      <th>Province/State</th>\n",
              "      <th>Recovered</th>\n",
              "    </tr>\n",
              "  </thead>\n",
              "  <tbody>\n",
              "    <tr>\n",
              "      <th>0</th>\n",
              "      <td>1.0</td>\n",
              "      <td>Mainland China</td>\n",
              "      <td>NaN</td>\n",
              "      <td>1/22/2020 17:00</td>\n",
              "      <td>NaN</td>\n",
              "      <td>NaN</td>\n",
              "      <td>Anhui</td>\n",
              "      <td>NaN</td>\n",
              "    </tr>\n",
              "    <tr>\n",
              "      <th>1</th>\n",
              "      <td>14.0</td>\n",
              "      <td>Mainland China</td>\n",
              "      <td>NaN</td>\n",
              "      <td>1/22/2020 17:00</td>\n",
              "      <td>NaN</td>\n",
              "      <td>NaN</td>\n",
              "      <td>Beijing</td>\n",
              "      <td>NaN</td>\n",
              "    </tr>\n",
              "    <tr>\n",
              "      <th>2</th>\n",
              "      <td>6.0</td>\n",
              "      <td>Mainland China</td>\n",
              "      <td>NaN</td>\n",
              "      <td>1/22/2020 17:00</td>\n",
              "      <td>NaN</td>\n",
              "      <td>NaN</td>\n",
              "      <td>Chongqing</td>\n",
              "      <td>NaN</td>\n",
              "    </tr>\n",
              "    <tr>\n",
              "      <th>3</th>\n",
              "      <td>1.0</td>\n",
              "      <td>Mainland China</td>\n",
              "      <td>NaN</td>\n",
              "      <td>1/22/2020 17:00</td>\n",
              "      <td>NaN</td>\n",
              "      <td>NaN</td>\n",
              "      <td>Fujian</td>\n",
              "      <td>NaN</td>\n",
              "    </tr>\n",
              "    <tr>\n",
              "      <th>4</th>\n",
              "      <td>NaN</td>\n",
              "      <td>Mainland China</td>\n",
              "      <td>NaN</td>\n",
              "      <td>1/22/2020 17:00</td>\n",
              "      <td>NaN</td>\n",
              "      <td>NaN</td>\n",
              "      <td>Gansu</td>\n",
              "      <td>NaN</td>\n",
              "    </tr>\n",
              "    <tr>\n",
              "      <th>...</th>\n",
              "      <td>...</td>\n",
              "      <td>...</td>\n",
              "      <td>...</td>\n",
              "      <td>...</td>\n",
              "      <td>...</td>\n",
              "      <td>...</td>\n",
              "      <td>...</td>\n",
              "      <td>...</td>\n",
              "    </tr>\n",
              "    <tr>\n",
              "      <th>299</th>\n",
              "      <td>0.0</td>\n",
              "      <td>Jersey</td>\n",
              "      <td>0.0</td>\n",
              "      <td>2020-03-17T18:33:03</td>\n",
              "      <td>49.1900</td>\n",
              "      <td>-2.110</td>\n",
              "      <td>NaN</td>\n",
              "      <td>0.0</td>\n",
              "    </tr>\n",
              "    <tr>\n",
              "      <th>300</th>\n",
              "      <td>0.0</td>\n",
              "      <td>Puerto Rico</td>\n",
              "      <td>0.0</td>\n",
              "      <td>2020-03-17T16:13:14</td>\n",
              "      <td>18.2000</td>\n",
              "      <td>-66.500</td>\n",
              "      <td>NaN</td>\n",
              "      <td>0.0</td>\n",
              "    </tr>\n",
              "    <tr>\n",
              "      <th>301</th>\n",
              "      <td>0.0</td>\n",
              "      <td>Republic of the Congo</td>\n",
              "      <td>0.0</td>\n",
              "      <td>2020-03-17T21:33:03</td>\n",
              "      <td>-1.4400</td>\n",
              "      <td>15.556</td>\n",
              "      <td>NaN</td>\n",
              "      <td>0.0</td>\n",
              "    </tr>\n",
              "    <tr>\n",
              "      <th>302</th>\n",
              "      <td>0.0</td>\n",
              "      <td>The Bahamas</td>\n",
              "      <td>0.0</td>\n",
              "      <td>2020-03-19T12:13:38</td>\n",
              "      <td>24.2500</td>\n",
              "      <td>-76.000</td>\n",
              "      <td>NaN</td>\n",
              "      <td>0.0</td>\n",
              "    </tr>\n",
              "    <tr>\n",
              "      <th>303</th>\n",
              "      <td>0.0</td>\n",
              "      <td>The Gambia</td>\n",
              "      <td>0.0</td>\n",
              "      <td>2020-03-18T14:13:56</td>\n",
              "      <td>13.4667</td>\n",
              "      <td>-16.600</td>\n",
              "      <td>NaN</td>\n",
              "      <td>0.0</td>\n",
              "    </tr>\n",
              "  </tbody>\n",
              "</table>\n",
              "<p>7617 rows × 8 columns</p>\n",
              "</div>"
            ],
            "text/plain": [
              "     Confirmed         Country/Region  ...  Province/State Recovered\n",
              "0          1.0         Mainland China  ...           Anhui       NaN\n",
              "1         14.0         Mainland China  ...         Beijing       NaN\n",
              "2          6.0         Mainland China  ...       Chongqing       NaN\n",
              "3          1.0         Mainland China  ...          Fujian       NaN\n",
              "4          NaN         Mainland China  ...           Gansu       NaN\n",
              "..         ...                    ...  ...             ...       ...\n",
              "299        0.0                 Jersey  ...             NaN       0.0\n",
              "300        0.0            Puerto Rico  ...             NaN       0.0\n",
              "301        0.0  Republic of the Congo  ...             NaN       0.0\n",
              "302        0.0            The Bahamas  ...             NaN       0.0\n",
              "303        0.0             The Gambia  ...             NaN       0.0\n",
              "\n",
              "[7617 rows x 8 columns]"
            ]
          },
          "metadata": {
            "tags": []
          },
          "execution_count": 45
        }
      ]
    },
    {
      "cell_type": "code",
      "metadata": {
        "id": "mCGdapcvkXYg",
        "colab_type": "code",
        "colab": {
          "base_uri": "https://localhost:8080/",
          "height": 255
        },
        "outputId": "3c32b0fb-5824-4593-c5c4-613f637934e1"
      },
      "source": [
        "data_final.isna().any"
      ],
      "execution_count": 95,
      "outputs": [
        {
          "output_type": "execute_result",
          "data": {
            "text/plain": [
              "<bound method DataFrame.any of      Confirmed  Country/Region  Deaths  ...  Longitude  Province/State  Recovered\n",
              "0        False           False    True  ...       True           False       True\n",
              "1        False           False    True  ...       True           False       True\n",
              "2        False           False    True  ...       True           False       True\n",
              "3        False           False    True  ...       True           False       True\n",
              "4         True           False    True  ...       True           False       True\n",
              "..         ...             ...     ...  ...        ...             ...        ...\n",
              "299      False           False   False  ...      False            True      False\n",
              "300      False           False   False  ...      False            True      False\n",
              "301      False           False   False  ...      False            True      False\n",
              "302      False           False   False  ...      False            True      False\n",
              "303      False           False   False  ...      False            True      False\n",
              "\n",
              "[7617 rows x 8 columns]>"
            ]
          },
          "metadata": {
            "tags": []
          },
          "execution_count": 95
        }
      ]
    },
    {
      "cell_type": "code",
      "metadata": {
        "id": "5RmMgkwxklO8",
        "colab_type": "code",
        "colab": {}
      },
      "source": [
        "data_final['Recovered'].fillna(0,inplace=True)"
      ],
      "execution_count": 0,
      "outputs": []
    },
    {
      "cell_type": "code",
      "metadata": {
        "id": "v4nUHUeakwV8",
        "colab_type": "code",
        "colab": {}
      },
      "source": [
        "data_final['Confirmed'].fillna(0,inplace=True)"
      ],
      "execution_count": 0,
      "outputs": []
    },
    {
      "cell_type": "code",
      "metadata": {
        "id": "vzUu9E0tk8T2",
        "colab_type": "code",
        "colab": {}
      },
      "source": [
        "data_final['Deaths'].fillna(0,inplace=True)"
      ],
      "execution_count": 0,
      "outputs": []
    },
    {
      "cell_type": "code",
      "metadata": {
        "id": "7sLIEO2tlDBf",
        "colab_type": "code",
        "colab": {
          "base_uri": "https://localhost:8080/",
          "height": 669
        },
        "outputId": "32b78ef6-3b6c-4c35-9de1-466576fdac83"
      },
      "source": [
        "data_final.head(20)"
      ],
      "execution_count": 101,
      "outputs": [
        {
          "output_type": "execute_result",
          "data": {
            "text/html": [
              "<div>\n",
              "<style scoped>\n",
              "    .dataframe tbody tr th:only-of-type {\n",
              "        vertical-align: middle;\n",
              "    }\n",
              "\n",
              "    .dataframe tbody tr th {\n",
              "        vertical-align: top;\n",
              "    }\n",
              "\n",
              "    .dataframe thead th {\n",
              "        text-align: right;\n",
              "    }\n",
              "</style>\n",
              "<table border=\"1\" class=\"dataframe\">\n",
              "  <thead>\n",
              "    <tr style=\"text-align: right;\">\n",
              "      <th></th>\n",
              "      <th>Confirmed</th>\n",
              "      <th>Country/Region</th>\n",
              "      <th>Deaths</th>\n",
              "      <th>Last Update</th>\n",
              "      <th>Latitude</th>\n",
              "      <th>Longitude</th>\n",
              "      <th>Province/State</th>\n",
              "      <th>Recovered</th>\n",
              "    </tr>\n",
              "  </thead>\n",
              "  <tbody>\n",
              "    <tr>\n",
              "      <th>0</th>\n",
              "      <td>1.0</td>\n",
              "      <td>Mainland China</td>\n",
              "      <td>0.0</td>\n",
              "      <td>1/22/2020 17:00</td>\n",
              "      <td>NaN</td>\n",
              "      <td>NaN</td>\n",
              "      <td>Anhui</td>\n",
              "      <td>0.0</td>\n",
              "    </tr>\n",
              "    <tr>\n",
              "      <th>1</th>\n",
              "      <td>14.0</td>\n",
              "      <td>Mainland China</td>\n",
              "      <td>0.0</td>\n",
              "      <td>1/22/2020 17:00</td>\n",
              "      <td>NaN</td>\n",
              "      <td>NaN</td>\n",
              "      <td>Beijing</td>\n",
              "      <td>0.0</td>\n",
              "    </tr>\n",
              "    <tr>\n",
              "      <th>2</th>\n",
              "      <td>6.0</td>\n",
              "      <td>Mainland China</td>\n",
              "      <td>0.0</td>\n",
              "      <td>1/22/2020 17:00</td>\n",
              "      <td>NaN</td>\n",
              "      <td>NaN</td>\n",
              "      <td>Chongqing</td>\n",
              "      <td>0.0</td>\n",
              "    </tr>\n",
              "    <tr>\n",
              "      <th>3</th>\n",
              "      <td>1.0</td>\n",
              "      <td>Mainland China</td>\n",
              "      <td>0.0</td>\n",
              "      <td>1/22/2020 17:00</td>\n",
              "      <td>NaN</td>\n",
              "      <td>NaN</td>\n",
              "      <td>Fujian</td>\n",
              "      <td>0.0</td>\n",
              "    </tr>\n",
              "    <tr>\n",
              "      <th>4</th>\n",
              "      <td>0.0</td>\n",
              "      <td>Mainland China</td>\n",
              "      <td>0.0</td>\n",
              "      <td>1/22/2020 17:00</td>\n",
              "      <td>NaN</td>\n",
              "      <td>NaN</td>\n",
              "      <td>Gansu</td>\n",
              "      <td>0.0</td>\n",
              "    </tr>\n",
              "    <tr>\n",
              "      <th>5</th>\n",
              "      <td>26.0</td>\n",
              "      <td>Mainland China</td>\n",
              "      <td>0.0</td>\n",
              "      <td>1/22/2020 17:00</td>\n",
              "      <td>NaN</td>\n",
              "      <td>NaN</td>\n",
              "      <td>Guangdong</td>\n",
              "      <td>0.0</td>\n",
              "    </tr>\n",
              "    <tr>\n",
              "      <th>6</th>\n",
              "      <td>2.0</td>\n",
              "      <td>Mainland China</td>\n",
              "      <td>0.0</td>\n",
              "      <td>1/22/2020 17:00</td>\n",
              "      <td>NaN</td>\n",
              "      <td>NaN</td>\n",
              "      <td>Guangxi</td>\n",
              "      <td>0.0</td>\n",
              "    </tr>\n",
              "    <tr>\n",
              "      <th>7</th>\n",
              "      <td>1.0</td>\n",
              "      <td>Mainland China</td>\n",
              "      <td>0.0</td>\n",
              "      <td>1/22/2020 17:00</td>\n",
              "      <td>NaN</td>\n",
              "      <td>NaN</td>\n",
              "      <td>Guizhou</td>\n",
              "      <td>0.0</td>\n",
              "    </tr>\n",
              "    <tr>\n",
              "      <th>8</th>\n",
              "      <td>4.0</td>\n",
              "      <td>Mainland China</td>\n",
              "      <td>0.0</td>\n",
              "      <td>1/22/2020 17:00</td>\n",
              "      <td>NaN</td>\n",
              "      <td>NaN</td>\n",
              "      <td>Hainan</td>\n",
              "      <td>0.0</td>\n",
              "    </tr>\n",
              "    <tr>\n",
              "      <th>9</th>\n",
              "      <td>1.0</td>\n",
              "      <td>Mainland China</td>\n",
              "      <td>0.0</td>\n",
              "      <td>1/22/2020 17:00</td>\n",
              "      <td>NaN</td>\n",
              "      <td>NaN</td>\n",
              "      <td>Hebei</td>\n",
              "      <td>0.0</td>\n",
              "    </tr>\n",
              "    <tr>\n",
              "      <th>10</th>\n",
              "      <td>0.0</td>\n",
              "      <td>Mainland China</td>\n",
              "      <td>0.0</td>\n",
              "      <td>1/22/2020 17:00</td>\n",
              "      <td>NaN</td>\n",
              "      <td>NaN</td>\n",
              "      <td>Heilongjiang</td>\n",
              "      <td>0.0</td>\n",
              "    </tr>\n",
              "    <tr>\n",
              "      <th>11</th>\n",
              "      <td>5.0</td>\n",
              "      <td>Mainland China</td>\n",
              "      <td>0.0</td>\n",
              "      <td>1/22/2020 17:00</td>\n",
              "      <td>NaN</td>\n",
              "      <td>NaN</td>\n",
              "      <td>Henan</td>\n",
              "      <td>0.0</td>\n",
              "    </tr>\n",
              "    <tr>\n",
              "      <th>12</th>\n",
              "      <td>0.0</td>\n",
              "      <td>Hong Kong</td>\n",
              "      <td>0.0</td>\n",
              "      <td>1/22/2020 17:00</td>\n",
              "      <td>NaN</td>\n",
              "      <td>NaN</td>\n",
              "      <td>Hong Kong</td>\n",
              "      <td>0.0</td>\n",
              "    </tr>\n",
              "    <tr>\n",
              "      <th>13</th>\n",
              "      <td>444.0</td>\n",
              "      <td>Mainland China</td>\n",
              "      <td>17.0</td>\n",
              "      <td>1/22/2020 17:00</td>\n",
              "      <td>NaN</td>\n",
              "      <td>NaN</td>\n",
              "      <td>Hubei</td>\n",
              "      <td>28.0</td>\n",
              "    </tr>\n",
              "    <tr>\n",
              "      <th>14</th>\n",
              "      <td>4.0</td>\n",
              "      <td>Mainland China</td>\n",
              "      <td>0.0</td>\n",
              "      <td>1/22/2020 17:00</td>\n",
              "      <td>NaN</td>\n",
              "      <td>NaN</td>\n",
              "      <td>Hunan</td>\n",
              "      <td>0.0</td>\n",
              "    </tr>\n",
              "    <tr>\n",
              "      <th>15</th>\n",
              "      <td>0.0</td>\n",
              "      <td>Mainland China</td>\n",
              "      <td>0.0</td>\n",
              "      <td>1/22/2020 17:00</td>\n",
              "      <td>NaN</td>\n",
              "      <td>NaN</td>\n",
              "      <td>Inner Mongolia</td>\n",
              "      <td>0.0</td>\n",
              "    </tr>\n",
              "    <tr>\n",
              "      <th>16</th>\n",
              "      <td>1.0</td>\n",
              "      <td>Mainland China</td>\n",
              "      <td>0.0</td>\n",
              "      <td>1/22/2020 17:00</td>\n",
              "      <td>NaN</td>\n",
              "      <td>NaN</td>\n",
              "      <td>Jiangsu</td>\n",
              "      <td>0.0</td>\n",
              "    </tr>\n",
              "    <tr>\n",
              "      <th>17</th>\n",
              "      <td>2.0</td>\n",
              "      <td>Mainland China</td>\n",
              "      <td>0.0</td>\n",
              "      <td>1/22/2020 17:00</td>\n",
              "      <td>NaN</td>\n",
              "      <td>NaN</td>\n",
              "      <td>Jiangxi</td>\n",
              "      <td>0.0</td>\n",
              "    </tr>\n",
              "    <tr>\n",
              "      <th>18</th>\n",
              "      <td>0.0</td>\n",
              "      <td>Mainland China</td>\n",
              "      <td>0.0</td>\n",
              "      <td>1/22/2020 17:00</td>\n",
              "      <td>NaN</td>\n",
              "      <td>NaN</td>\n",
              "      <td>Jilin</td>\n",
              "      <td>0.0</td>\n",
              "    </tr>\n",
              "    <tr>\n",
              "      <th>19</th>\n",
              "      <td>2.0</td>\n",
              "      <td>Mainland China</td>\n",
              "      <td>0.0</td>\n",
              "      <td>1/22/2020 17:00</td>\n",
              "      <td>NaN</td>\n",
              "      <td>NaN</td>\n",
              "      <td>Liaoning</td>\n",
              "      <td>0.0</td>\n",
              "    </tr>\n",
              "  </tbody>\n",
              "</table>\n",
              "</div>"
            ],
            "text/plain": [
              "    Confirmed  Country/Region  Deaths  ... Longitude  Province/State  Recovered\n",
              "0         1.0  Mainland China     0.0  ...       NaN           Anhui        0.0\n",
              "1        14.0  Mainland China     0.0  ...       NaN         Beijing        0.0\n",
              "2         6.0  Mainland China     0.0  ...       NaN       Chongqing        0.0\n",
              "3         1.0  Mainland China     0.0  ...       NaN          Fujian        0.0\n",
              "4         0.0  Mainland China     0.0  ...       NaN           Gansu        0.0\n",
              "5        26.0  Mainland China     0.0  ...       NaN       Guangdong        0.0\n",
              "6         2.0  Mainland China     0.0  ...       NaN         Guangxi        0.0\n",
              "7         1.0  Mainland China     0.0  ...       NaN         Guizhou        0.0\n",
              "8         4.0  Mainland China     0.0  ...       NaN          Hainan        0.0\n",
              "9         1.0  Mainland China     0.0  ...       NaN           Hebei        0.0\n",
              "10        0.0  Mainland China     0.0  ...       NaN    Heilongjiang        0.0\n",
              "11        5.0  Mainland China     0.0  ...       NaN           Henan        0.0\n",
              "12        0.0       Hong Kong     0.0  ...       NaN       Hong Kong        0.0\n",
              "13      444.0  Mainland China    17.0  ...       NaN           Hubei       28.0\n",
              "14        4.0  Mainland China     0.0  ...       NaN           Hunan        0.0\n",
              "15        0.0  Mainland China     0.0  ...       NaN  Inner Mongolia        0.0\n",
              "16        1.0  Mainland China     0.0  ...       NaN         Jiangsu        0.0\n",
              "17        2.0  Mainland China     0.0  ...       NaN         Jiangxi        0.0\n",
              "18        0.0  Mainland China     0.0  ...       NaN           Jilin        0.0\n",
              "19        2.0  Mainland China     0.0  ...       NaN        Liaoning        0.0\n",
              "\n",
              "[20 rows x 8 columns]"
            ]
          },
          "metadata": {
            "tags": []
          },
          "execution_count": 101
        }
      ]
    },
    {
      "cell_type": "code",
      "metadata": {
        "id": "6Ap6OJbOS6qD",
        "colab_type": "code",
        "outputId": "2bbc133f-ce26-4220-a2a0-3a8ba57f321e",
        "colab": {
          "base_uri": "https://localhost:8080/",
          "height": 297
        }
      },
      "source": [
        "data_final.describe()"
      ],
      "execution_count": 46,
      "outputs": [
        {
          "output_type": "execute_result",
          "data": {
            "text/html": [
              "<div>\n",
              "<style scoped>\n",
              "    .dataframe tbody tr th:only-of-type {\n",
              "        vertical-align: middle;\n",
              "    }\n",
              "\n",
              "    .dataframe tbody tr th {\n",
              "        vertical-align: top;\n",
              "    }\n",
              "\n",
              "    .dataframe thead th {\n",
              "        text-align: right;\n",
              "    }\n",
              "</style>\n",
              "<table border=\"1\" class=\"dataframe\">\n",
              "  <thead>\n",
              "    <tr style=\"text-align: right;\">\n",
              "      <th></th>\n",
              "      <th>Confirmed</th>\n",
              "      <th>Deaths</th>\n",
              "      <th>Latitude</th>\n",
              "      <th>Longitude</th>\n",
              "      <th>Recovered</th>\n",
              "    </tr>\n",
              "  </thead>\n",
              "  <tbody>\n",
              "    <tr>\n",
              "      <th>count</th>\n",
              "      <td>7598.000000</td>\n",
              "      <td>7176.000000</td>\n",
              "      <td>4799.000000</td>\n",
              "      <td>4799.000000</td>\n",
              "      <td>7229.000000</td>\n",
              "    </tr>\n",
              "    <tr>\n",
              "      <th>mean</th>\n",
              "      <td>639.727165</td>\n",
              "      <td>23.357023</td>\n",
              "      <td>29.152227</td>\n",
              "      <td>6.297000</td>\n",
              "      <td>246.992253</td>\n",
              "    </tr>\n",
              "    <tr>\n",
              "      <th>std</th>\n",
              "      <td>4946.867487</td>\n",
              "      <td>227.387475</td>\n",
              "      <td>21.927711</td>\n",
              "      <td>84.758913</td>\n",
              "      <td>2740.468957</td>\n",
              "    </tr>\n",
              "    <tr>\n",
              "      <th>min</th>\n",
              "      <td>0.000000</td>\n",
              "      <td>0.000000</td>\n",
              "      <td>-41.454500</td>\n",
              "      <td>-157.858400</td>\n",
              "      <td>0.000000</td>\n",
              "    </tr>\n",
              "    <tr>\n",
              "      <th>25%</th>\n",
              "      <td>2.000000</td>\n",
              "      <td>0.000000</td>\n",
              "      <td>21.000000</td>\n",
              "      <td>-75.015200</td>\n",
              "      <td>0.000000</td>\n",
              "    </tr>\n",
              "    <tr>\n",
              "      <th>50%</th>\n",
              "      <td>16.000000</td>\n",
              "      <td>0.000000</td>\n",
              "      <td>35.443700</td>\n",
              "      <td>11.609400</td>\n",
              "      <td>1.000000</td>\n",
              "    </tr>\n",
              "    <tr>\n",
              "      <th>75%</th>\n",
              "      <td>125.000000</td>\n",
              "      <td>1.000000</td>\n",
              "      <td>42.756000</td>\n",
              "      <td>89.046200</td>\n",
              "      <td>12.000000</td>\n",
              "    </tr>\n",
              "    <tr>\n",
              "      <th>max</th>\n",
              "      <td>67800.000000</td>\n",
              "      <td>4825.000000</td>\n",
              "      <td>72.000000</td>\n",
              "      <td>178.065000</td>\n",
              "      <td>58946.000000</td>\n",
              "    </tr>\n",
              "  </tbody>\n",
              "</table>\n",
              "</div>"
            ],
            "text/plain": [
              "          Confirmed       Deaths     Latitude    Longitude     Recovered\n",
              "count   7598.000000  7176.000000  4799.000000  4799.000000   7229.000000\n",
              "mean     639.727165    23.357023    29.152227     6.297000    246.992253\n",
              "std     4946.867487   227.387475    21.927711    84.758913   2740.468957\n",
              "min        0.000000     0.000000   -41.454500  -157.858400      0.000000\n",
              "25%        2.000000     0.000000    21.000000   -75.015200      0.000000\n",
              "50%       16.000000     0.000000    35.443700    11.609400      1.000000\n",
              "75%      125.000000     1.000000    42.756000    89.046200     12.000000\n",
              "max    67800.000000  4825.000000    72.000000   178.065000  58946.000000"
            ]
          },
          "metadata": {
            "tags": []
          },
          "execution_count": 46
        }
      ]
    },
    {
      "cell_type": "markdown",
      "metadata": {
        "id": "2LIP_mQmS9Lj",
        "colab_type": "text"
      },
      "source": [
        ""
      ]
    },
    {
      "cell_type": "code",
      "metadata": {
        "id": "_boMoeuALE6K",
        "colab_type": "code",
        "colab": {}
      },
      "source": [
        "grouped=data_final.groupby('Country/Region')"
      ],
      "execution_count": 0,
      "outputs": []
    },
    {
      "cell_type": "code",
      "metadata": {
        "id": "VdVdQYMWTPId",
        "colab_type": "code",
        "outputId": "fafdf64b-6a5c-49c4-a9ed-7196e11b0d00",
        "colab": {
          "base_uri": "https://localhost:8080/",
          "height": 481
        }
      },
      "source": [
        "d=grouped['Confirmed','Deaths','Recovered'].agg([np.sum])\n",
        "d"
      ],
      "execution_count": 48,
      "outputs": [
        {
          "output_type": "execute_result",
          "data": {
            "text/html": [
              "<div>\n",
              "<style scoped>\n",
              "    .dataframe tbody tr th:only-of-type {\n",
              "        vertical-align: middle;\n",
              "    }\n",
              "\n",
              "    .dataframe tbody tr th {\n",
              "        vertical-align: top;\n",
              "    }\n",
              "\n",
              "    .dataframe thead tr th {\n",
              "        text-align: left;\n",
              "    }\n",
              "\n",
              "    .dataframe thead tr:last-of-type th {\n",
              "        text-align: right;\n",
              "    }\n",
              "</style>\n",
              "<table border=\"1\" class=\"dataframe\">\n",
              "  <thead>\n",
              "    <tr>\n",
              "      <th></th>\n",
              "      <th>Confirmed</th>\n",
              "      <th>Deaths</th>\n",
              "      <th>Recovered</th>\n",
              "    </tr>\n",
              "    <tr>\n",
              "      <th></th>\n",
              "      <th>sum</th>\n",
              "      <th>sum</th>\n",
              "      <th>sum</th>\n",
              "    </tr>\n",
              "    <tr>\n",
              "      <th>Country/Region</th>\n",
              "      <th></th>\n",
              "      <th></th>\n",
              "      <th></th>\n",
              "    </tr>\n",
              "  </thead>\n",
              "  <tbody>\n",
              "    <tr>\n",
              "      <th>Azerbaijan</th>\n",
              "      <td>1.0</td>\n",
              "      <td>0.0</td>\n",
              "      <td>0.0</td>\n",
              "    </tr>\n",
              "    <tr>\n",
              "      <th>Afghanistan</th>\n",
              "      <td>209.0</td>\n",
              "      <td>0.0</td>\n",
              "      <td>6.0</td>\n",
              "    </tr>\n",
              "    <tr>\n",
              "      <th>Albania</th>\n",
              "      <td>535.0</td>\n",
              "      <td>15.0</td>\n",
              "      <td>2.0</td>\n",
              "    </tr>\n",
              "    <tr>\n",
              "      <th>Algeria</th>\n",
              "      <td>790.0</td>\n",
              "      <td>60.0</td>\n",
              "      <td>172.0</td>\n",
              "    </tr>\n",
              "    <tr>\n",
              "      <th>Andorra</th>\n",
              "      <td>310.0</td>\n",
              "      <td>0.0</td>\n",
              "      <td>9.0</td>\n",
              "    </tr>\n",
              "    <tr>\n",
              "      <th>...</th>\n",
              "      <td>...</td>\n",
              "      <td>...</td>\n",
              "      <td>...</td>\n",
              "    </tr>\n",
              "    <tr>\n",
              "      <th>Viet Nam</th>\n",
              "      <td>31.0</td>\n",
              "      <td>0.0</td>\n",
              "      <td>16.0</td>\n",
              "    </tr>\n",
              "    <tr>\n",
              "      <th>Vietnam</th>\n",
              "      <td>1295.0</td>\n",
              "      <td>0.0</td>\n",
              "      <td>535.0</td>\n",
              "    </tr>\n",
              "    <tr>\n",
              "      <th>Zambia</th>\n",
              "      <td>8.0</td>\n",
              "      <td>0.0</td>\n",
              "      <td>0.0</td>\n",
              "    </tr>\n",
              "    <tr>\n",
              "      <th>Zimbabwe</th>\n",
              "      <td>4.0</td>\n",
              "      <td>0.0</td>\n",
              "      <td>0.0</td>\n",
              "    </tr>\n",
              "    <tr>\n",
              "      <th>occupied Palestinian territory</th>\n",
              "      <td>25.0</td>\n",
              "      <td>0.0</td>\n",
              "      <td>0.0</td>\n",
              "    </tr>\n",
              "  </tbody>\n",
              "</table>\n",
              "<p>210 rows × 3 columns</p>\n",
              "</div>"
            ],
            "text/plain": [
              "                               Confirmed Deaths Recovered\n",
              "                                     sum    sum       sum\n",
              "Country/Region                                           \n",
              " Azerbaijan                          1.0    0.0       0.0\n",
              "Afghanistan                        209.0    0.0       6.0\n",
              "Albania                            535.0   15.0       2.0\n",
              "Algeria                            790.0   60.0     172.0\n",
              "Andorra                            310.0    0.0       9.0\n",
              "...                                  ...    ...       ...\n",
              "Viet Nam                            31.0    0.0      16.0\n",
              "Vietnam                           1295.0    0.0     535.0\n",
              "Zambia                               8.0    0.0       0.0\n",
              "Zimbabwe                             4.0    0.0       0.0\n",
              "occupied Palestinian territory      25.0    0.0       0.0\n",
              "\n",
              "[210 rows x 3 columns]"
            ]
          },
          "metadata": {
            "tags": []
          },
          "execution_count": 48
        }
      ]
    },
    {
      "cell_type": "code",
      "metadata": {
        "id": "oi2OU8pBkOgA",
        "colab_type": "code",
        "colab": {}
      },
      "source": [
        ""
      ],
      "execution_count": 0,
      "outputs": []
    },
    {
      "cell_type": "code",
      "metadata": {
        "id": "mVZYEW7FTtzJ",
        "colab_type": "code",
        "colab": {}
      },
      "source": [
        "%matplotlib inline\n",
        "import matplotlib.pyplot as plt\n",
        "import numpy as np\n",
        "\n",
        "from sklearn.cluster import KMeans\n",
        "\n"
      ],
      "execution_count": 0,
      "outputs": []
    },
    {
      "cell_type": "code",
      "metadata": {
        "id": "VX0ELbTL_sWi",
        "colab_type": "code",
        "colab": {}
      },
      "source": [
        ""
      ],
      "execution_count": 0,
      "outputs": []
    },
    {
      "cell_type": "code",
      "metadata": {
        "id": "N0IDYAqBsWgq",
        "colab_type": "code",
        "outputId": "bc9a9654-d831-4d4b-a705-b67315f5a6f0",
        "colab": {
          "base_uri": "https://localhost:8080/",
          "height": 986
        }
      },
      "source": [
        "Nc=range(2,21)\n",
        "Kmeans=[KMeans(n_clusters=i) for i in Nc]\n",
        "Kmeans\n"
      ],
      "execution_count": 74,
      "outputs": [
        {
          "output_type": "execute_result",
          "data": {
            "text/plain": [
              "[KMeans(algorithm='auto', copy_x=True, init='k-means++', max_iter=300,\n",
              "        n_clusters=2, n_init=10, n_jobs=None, precompute_distances='auto',\n",
              "        random_state=None, tol=0.0001, verbose=0),\n",
              " KMeans(algorithm='auto', copy_x=True, init='k-means++', max_iter=300,\n",
              "        n_clusters=3, n_init=10, n_jobs=None, precompute_distances='auto',\n",
              "        random_state=None, tol=0.0001, verbose=0),\n",
              " KMeans(algorithm='auto', copy_x=True, init='k-means++', max_iter=300,\n",
              "        n_clusters=4, n_init=10, n_jobs=None, precompute_distances='auto',\n",
              "        random_state=None, tol=0.0001, verbose=0),\n",
              " KMeans(algorithm='auto', copy_x=True, init='k-means++', max_iter=300,\n",
              "        n_clusters=5, n_init=10, n_jobs=None, precompute_distances='auto',\n",
              "        random_state=None, tol=0.0001, verbose=0),\n",
              " KMeans(algorithm='auto', copy_x=True, init='k-means++', max_iter=300,\n",
              "        n_clusters=6, n_init=10, n_jobs=None, precompute_distances='auto',\n",
              "        random_state=None, tol=0.0001, verbose=0),\n",
              " KMeans(algorithm='auto', copy_x=True, init='k-means++', max_iter=300,\n",
              "        n_clusters=7, n_init=10, n_jobs=None, precompute_distances='auto',\n",
              "        random_state=None, tol=0.0001, verbose=0),\n",
              " KMeans(algorithm='auto', copy_x=True, init='k-means++', max_iter=300,\n",
              "        n_clusters=8, n_init=10, n_jobs=None, precompute_distances='auto',\n",
              "        random_state=None, tol=0.0001, verbose=0),\n",
              " KMeans(algorithm='auto', copy_x=True, init='k-means++', max_iter=300,\n",
              "        n_clusters=9, n_init=10, n_jobs=None, precompute_distances='auto',\n",
              "        random_state=None, tol=0.0001, verbose=0),\n",
              " KMeans(algorithm='auto', copy_x=True, init='k-means++', max_iter=300,\n",
              "        n_clusters=10, n_init=10, n_jobs=None, precompute_distances='auto',\n",
              "        random_state=None, tol=0.0001, verbose=0),\n",
              " KMeans(algorithm='auto', copy_x=True, init='k-means++', max_iter=300,\n",
              "        n_clusters=11, n_init=10, n_jobs=None, precompute_distances='auto',\n",
              "        random_state=None, tol=0.0001, verbose=0),\n",
              " KMeans(algorithm='auto', copy_x=True, init='k-means++', max_iter=300,\n",
              "        n_clusters=12, n_init=10, n_jobs=None, precompute_distances='auto',\n",
              "        random_state=None, tol=0.0001, verbose=0),\n",
              " KMeans(algorithm='auto', copy_x=True, init='k-means++', max_iter=300,\n",
              "        n_clusters=13, n_init=10, n_jobs=None, precompute_distances='auto',\n",
              "        random_state=None, tol=0.0001, verbose=0),\n",
              " KMeans(algorithm='auto', copy_x=True, init='k-means++', max_iter=300,\n",
              "        n_clusters=14, n_init=10, n_jobs=None, precompute_distances='auto',\n",
              "        random_state=None, tol=0.0001, verbose=0),\n",
              " KMeans(algorithm='auto', copy_x=True, init='k-means++', max_iter=300,\n",
              "        n_clusters=15, n_init=10, n_jobs=None, precompute_distances='auto',\n",
              "        random_state=None, tol=0.0001, verbose=0),\n",
              " KMeans(algorithm='auto', copy_x=True, init='k-means++', max_iter=300,\n",
              "        n_clusters=16, n_init=10, n_jobs=None, precompute_distances='auto',\n",
              "        random_state=None, tol=0.0001, verbose=0),\n",
              " KMeans(algorithm='auto', copy_x=True, init='k-means++', max_iter=300,\n",
              "        n_clusters=17, n_init=10, n_jobs=None, precompute_distances='auto',\n",
              "        random_state=None, tol=0.0001, verbose=0),\n",
              " KMeans(algorithm='auto', copy_x=True, init='k-means++', max_iter=300,\n",
              "        n_clusters=18, n_init=10, n_jobs=None, precompute_distances='auto',\n",
              "        random_state=None, tol=0.0001, verbose=0),\n",
              " KMeans(algorithm='auto', copy_x=True, init='k-means++', max_iter=300,\n",
              "        n_clusters=19, n_init=10, n_jobs=None, precompute_distances='auto',\n",
              "        random_state=None, tol=0.0001, verbose=0),\n",
              " KMeans(algorithm='auto', copy_x=True, init='k-means++', max_iter=300,\n",
              "        n_clusters=20, n_init=10, n_jobs=None, precompute_distances='auto',\n",
              "        random_state=None, tol=0.0001, verbose=0)]"
            ]
          },
          "metadata": {
            "tags": []
          },
          "execution_count": 74
        }
      ]
    },
    {
      "cell_type": "code",
      "metadata": {
        "id": "QcYAy9x0z5ou",
        "colab_type": "code",
        "colab": {}
      },
      "source": [
        "x=d['Confirmed']\n",
        "y=d['Deaths']"
      ],
      "execution_count": 0,
      "outputs": []
    },
    {
      "cell_type": "code",
      "metadata": {
        "id": "y743QfgnXUNe",
        "colab_type": "code",
        "colab": {
          "base_uri": "https://localhost:8080/",
          "height": 340
        },
        "outputId": "b2c31a2a-ff06-4953-f8da-83871708d2be"
      },
      "source": [
        "score= [Kmeans[i].fit(y).score(y) for i in range(len(Kmeans))]\n",
        "score\n"
      ],
      "execution_count": 78,
      "outputs": [
        {
          "output_type": "execute_result",
          "data": {
            "text/plain": [
              "[-1567136338.6473436,\n",
              " -184875878.48067608,\n",
              " -62826488.966019176,\n",
              " -33580736.421568386,\n",
              " -8802983.39512195,\n",
              " -2155936.700248756,\n",
              " -791958.7288461538,\n",
              " -434886.1871794872,\n",
              " -187632.18717948723,\n",
              " -80070.83333333337,\n",
              " -54247.55487762375,\n",
              " -25454.456558485457,\n",
              " -16941.78989181883,\n",
              " -9224.548523206775,\n",
              " -6410.6280149961185,\n",
              " -4253.742669223702,\n",
              " -3279.9044358599504,\n",
              " -2536.841757888407,\n",
              " -1814.1963869464207]"
            ]
          },
          "metadata": {
            "tags": []
          },
          "execution_count": 78
        }
      ]
    },
    {
      "cell_type": "code",
      "metadata": {
        "id": "59FHxKyQTu2O",
        "colab_type": "code",
        "outputId": "e3309a2c-a173-47fb-e333-a169e42efa6d",
        "colab": {
          "base_uri": "https://localhost:8080/",
          "height": 295
        }
      },
      "source": [
        "plt.plot(Nc,score)\n",
        "plt.xlabel('Number of Clusters')\n",
        "plt.ylabel('Score')\n",
        "plt.title('Elbow Curve')\n",
        "plt.show()\n"
      ],
      "execution_count": 79,
      "outputs": [
        {
          "output_type": "display_data",
          "data": {
            "image/png": "[encoded data removed]",
            "text/plain": [
              "<Figure size 432x288 with 1 Axes>"
            ]
          },
          "metadata": {
            "tags": []
          }
        }
      ]
    },
    {
      "cell_type": "code",
      "metadata": {
        "id": "SEuddw8RWB7I",
        "colab_type": "code",
        "outputId": "aad1ea9f-4ebe-4111-c503-f7ea208de480",
        "colab": {
          "base_uri": "https://localhost:8080/",
          "height": 296
        }
      },
      "source": [
        "mp.scatter(x,y)\n"
      ],
      "execution_count": 80,
      "outputs": [
        {
          "output_type": "execute_result",
          "data": {
            "text/plain": [
              "<matplotlib.collections.PathCollection at 0x7f3b3e8652b0>"
            ]
          },
          "metadata": {
            "tags": []
          },
          "execution_count": 80
        },
        {
          "output_type": "display_data",
          "data": {
            "image/png": "[encoded data removed]",
            "text/plain": [
              "<Figure size 432x288 with 1 Axes>"
            ]
          },
          "metadata": {
            "tags": []
          }
        }
      ]
    },
    {
      "cell_type": "code",
      "metadata": {
        "id": "YWRahdfOTNM5",
        "colab_type": "code",
        "colab": {}
      },
      "source": [
        "x=d['Deaths']\n",
        "y=d['Recovered'] "
      ],
      "execution_count": 0,
      "outputs": []
    },
    {
      "cell_type": "code",
      "metadata": {
        "id": "RLj1XvYKrg65",
        "colab_type": "code",
        "outputId": "4166f829-83b2-4f2f-aba4-86ad191c85c4",
        "colab": {
          "base_uri": "https://localhost:8080/",
          "height": 340
        }
      },
      "source": [
        "score1 = [Kmeans[i].fit(y).score(y) for i in range(len(Kmeans))]\n",
        "score1\n",
        "\n"
      ],
      "execution_count": 86,
      "outputs": [
        {
          "output_type": "execute_result",
          "data": {
            "text/plain": [
              "[-17767246778.45673,\n",
              " -5269441778.456731,\n",
              " -533534127.2281553,\n",
              " -235121677.2281553,\n",
              " -40652453.421568625,\n",
              " -9792283.205,\n",
              " -3822091.4512798134,\n",
              " -2482206.9512798134,\n",
              " -1351487.7800764376,\n",
              " -722664.9887043671,\n",
              " -413630.3860946741,\n",
              " -281917.40556039044,\n",
              " -184808.68452380883,\n",
              " -132775.2720087631,\n",
              " -96232.01875555312,\n",
              " -68583.34568942507,\n",
              " -50999.49609408842,\n",
              " -38013.199700489764,\n",
              " -29335.136983355696]"
            ]
          },
          "metadata": {
            "tags": []
          },
          "execution_count": 86
        }
      ]
    },
    {
      "cell_type": "markdown",
      "metadata": {
        "id": "bZdH0bkX6Kwk",
        "colab_type": "text"
      },
      "source": [
        ""
      ]
    },
    {
      "cell_type": "code",
      "metadata": {
        "id": "p14rrMMW6LkO",
        "colab_type": "code",
        "outputId": "3ad86749-595e-4c50-b510-f8932b115bef",
        "colab": {
          "base_uri": "https://localhost:8080/",
          "height": 295
        }
      },
      "source": [
        "plt.plot(Nc,score1)\n",
        "plt.xlabel('Number of Clusters')\n",
        "plt.ylabel('Score1')\n",
        "plt.title('Elbow Curve')\n",
        "plt.show()\n"
      ],
      "execution_count": 87,
      "outputs": [
        {
          "output_type": "display_data",
          "data": {
            "image/png": "[encoded data removed]",
            "text/plain": [
              "<Figure size 432x288 with 1 Axes>"
            ]
          },
          "metadata": {
            "tags": []
          }
        }
      ]
    },
    {
      "cell_type": "code",
      "metadata": {
        "id": "Yg8tEnPAaUIR",
        "colab_type": "code",
        "colab": {
          "base_uri": "https://localhost:8080/",
          "height": 282
        },
        "outputId": "75243fc8-c1ad-41b4-d86b-c7ae70907df3"
      },
      "source": [
        "mp.scatter(x,y)"
      ],
      "execution_count": 88,
      "outputs": [
        {
          "output_type": "execute_result",
          "data": {
            "text/plain": [
              "<matplotlib.collections.PathCollection at 0x7f3b3ea266d8>"
            ]
          },
          "metadata": {
            "tags": []
          },
          "execution_count": 88
        },
        {
          "output_type": "display_data",
          "data": {
            "image/png": "[encoded data removed]",
            "text/plain": [
              "<Figure size 432x288 with 1 Axes>"
            ]
          },
          "metadata": {
            "tags": []
          }
        }
      ]
    },
    {
      "cell_type": "code",
      "metadata": {
        "id": "7b9pZM8y6u63",
        "colab_type": "code",
        "colab": {}
      },
      "source": [
        "clustering=KMeans(n_clusters=4,random_state=123)\n",
        " \n",
        "\n"
      ],
      "execution_count": 0,
      "outputs": []
    },
    {
      "cell_type": "code",
      "metadata": {
        "id": "9CzJvP6S7YDJ",
        "colab_type": "code",
        "outputId": "c8c53fcc-b0d6-4899-b22a-8b227b86c14f",
        "colab": {
          "base_uri": "https://localhost:8080/",
          "height": 68
        }
      },
      "source": [
        "clustering.fit(x)"
      ],
      "execution_count": 91,
      "outputs": [
        {
          "output_type": "execute_result",
          "data": {
            "text/plain": [
              "KMeans(algorithm='auto', copy_x=True, init='k-means++', max_iter=300,\n",
              "       n_clusters=4, n_init=10, n_jobs=None, precompute_distances='auto',\n",
              "       random_state=123, tol=0.0001, verbose=0)"
            ]
          },
          "metadata": {
            "tags": []
          },
          "execution_count": 91
        }
      ]
    },
    {
      "cell_type": "code",
      "metadata": {
        "id": "uhetD2hvXYJg",
        "colab_type": "code",
        "colab": {}
      },
      "source": [
        ""
      ],
      "execution_count": 0,
      "outputs": []
    },
    {
      "cell_type": "code",
      "metadata": {
        "id": "Ap32CiRHvdsq",
        "colab_type": "code",
        "outputId": "dd811321-47af-4b76-bbe1-9de60ccb0c7c",
        "colab": {
          "base_uri": "https://localhost:8080/",
          "height": 85
        }
      },
      "source": [
        "clusters=clustering.cluster_centers_\n",
        "clusters"
      ],
      "execution_count": 92,
      "outputs": [
        {
          "output_type": "execute_result",
          "data": {
            "text/plain": [
              "array([[4.6795122e+01],\n",
              "       [3.1920500e+04],\n",
              "       [7.7455000e+04],\n",
              "       [8.3605000e+03]])"
            ]
          },
          "metadata": {
            "tags": []
          },
          "execution_count": 92
        }
      ]
    },
    {
      "cell_type": "code",
      "metadata": {
        "id": "JhqJMdNCT1I3",
        "colab_type": "code",
        "outputId": "7f4f12d8-56b8-4d0e-8243-6c721f522fe7",
        "colab": {
          "base_uri": "https://localhost:8080/",
          "height": 187
        }
      },
      "source": [
        "\n",
        "label=clustering.labels_\n",
        "label"
      ],
      "execution_count": 93,
      "outputs": [
        {
          "output_type": "execute_result",
          "data": {
            "text/plain": [
              "array([0, 0, 0, 0, 0, 0, 0, 0, 0, 0, 0, 0, 0, 0, 0, 0, 0, 0, 0, 0, 0, 0,\n",
              "       0, 0, 0, 0, 0, 0, 0, 0, 0, 0, 0, 0, 0, 0, 0, 1, 0, 0, 0, 0, 0, 0,\n",
              "       0, 0, 0, 0, 0, 0, 0, 0, 0, 0, 0, 0, 0, 0, 0, 0, 0, 0, 0, 0, 0, 0,\n",
              "       0, 0, 0, 0, 0, 0, 0, 0, 0, 0, 0, 0, 0, 0, 0, 0, 0, 0, 0, 0, 0, 0,\n",
              "       0, 0, 3, 0, 0, 0, 0, 1, 0, 0, 0, 0, 0, 0, 0, 0, 0, 0, 0, 0, 0, 0,\n",
              "       0, 0, 0, 0, 0, 0, 2, 0, 0, 0, 0, 0, 0, 0, 0, 0, 0, 0, 0, 0, 0, 0,\n",
              "       0, 0, 0, 0, 0, 0, 0, 0, 0, 0, 0, 0, 0, 0, 0, 0, 0, 0, 0, 0, 0, 0,\n",
              "       0, 0, 0, 0, 0, 0, 0, 0, 0, 0, 0, 0, 0, 0, 0, 0, 0, 0, 0, 0, 0, 0,\n",
              "       0, 3, 0, 0, 0, 0, 0, 0, 0, 0, 0, 0, 0, 0, 0, 0, 0, 0, 0, 0, 0, 0,\n",
              "       0, 0, 0, 0, 0, 0, 0, 0, 0, 0, 0, 0], dtype=int32)"
            ]
          },
          "metadata": {
            "tags": []
          },
          "execution_count": 93
        }
      ]
    },
    {
      "cell_type": "code",
      "metadata": {
        "id": "ewMrPsC8Yrjt",
        "colab_type": "code",
        "colab": {}
      },
      "source": [
        ""
      ],
      "execution_count": 0,
      "outputs": []
    },
    {
      "cell_type": "code",
      "metadata": {
        "id": "TvTfarlgUDJX",
        "colab_type": "code",
        "outputId": "44c1855c-97ba-499b-99fc-692a172f03c1",
        "colab": {
          "base_uri": "https://localhost:8080/",
          "height": 283
        }
      },
      "source": [
        "#The data above can be grouped as clusters.\n",
        "plt.scatter(clusters[:,0],clusters[:,0],s=150)"
      ],
      "execution_count": 94,
      "outputs": [
        {
          "output_type": "execute_result",
          "data": {
            "text/plain": [
              "<matplotlib.collections.PathCollection at 0x7f3b3eaf3be0>"
            ]
          },
          "metadata": {
            "tags": []
          },
          "execution_count": 94
        },
        {
          "output_type": "display_data",
          "data": {
            "image/png": "[encoded data removed]",
            "text/plain": [
              "<Figure size 432x288 with 1 Axes>"
            ]
          },
          "metadata": {
            "tags": []
          }
        }
      ]
    },
    {
      "cell_type": "code",
      "metadata": {
        "id": "n7EBYUtUUgG5",
        "colab_type": "code",
        "colab": {}
      },
      "source": [
        ""
      ],
      "execution_count": 0,
      "outputs": []
    },
    {
      "cell_type": "markdown",
      "metadata": {
        "id": "VucJjRPhlpZV",
        "colab_type": "text"
      },
      "source": [
        "CONCLUSION:\n",
        "At first we have merged all the datasaets which were based on dates into a large single dataset.We applied Kmeans clustering on the data.Then we used elbow method and found suitable values of k.From the data when compared to confirmed cases the death rate is realtively low"
      ]
    },
    {
      "cell_type": "code",
      "metadata": {
        "id": "6GzWRdC9WKLG",
        "colab_type": "code",
        "colab": {}
      },
      "source": [
        ""
      ],
      "execution_count": 0,
      "outputs": []
    },
    {
      "cell_type": "code",
      "metadata": {
        "id": "0VSSCdWMYtLd",
        "colab_type": "code",
        "colab": {}
      },
      "source": [
        ""
      ],
      "execution_count": 0,
      "outputs": []
    }
  ]
}